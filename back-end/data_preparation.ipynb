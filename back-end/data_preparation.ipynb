{
 "cells": [
  {
   "cell_type": "code",
   "execution_count": 1,
   "id": "a6aeccaf",
   "metadata": {},
   "outputs": [],
   "source": [
    "import pandas as pd\n",
    "import json\n",
    "import numpy as np\n",
    "\n",
    "chunks = []\n",
    "with open('arxiv-metadata-oai-snapshot.json', 'r') as f:\n",
    "    for line in f:\n",
    "        record = json.loads(line)\n",
    "        chunks.append({\n",
    "            'title': record.get('title', '').strip(),\n",
    "            'authors': record.get('authors', '').strip(),\n",
    "            'abstract': record.get('abstract', '').strip(),\n",
    "            'year': int(record.get('update_date', '1900')[:4])  # Extract year\n",
    "        })\n",
    "\n",
    "# Convert to DataFrame\n",
    "df = pd.DataFrame(chunks)"
   ]
  },
  {
   "cell_type": "code",
   "execution_count": 2,
   "id": "e14db135",
   "metadata": {},
   "outputs": [],
   "source": [
    "# save abstracts to parquet file using polars\n",
    "import polars as pl\n",
    "df_polars = pl.DataFrame(df)\n",
    "df_polars.write_parquet('arxiv_abstracts.parquet')\n"
   ]
  },
  {
   "cell_type": "code",
   "execution_count": 2,
   "id": "80f38d46",
   "metadata": {},
   "outputs": [],
   "source": [
    "#load the parquet file back into a DataFrame\n",
    "import pyarrow.parquet as pq\n",
    "import polars as pl\n",
    "df = pl.read_parquet('arxiv_abstracts.parquet')\n"
   ]
  },
  {
   "cell_type": "code",
   "execution_count": 4,
   "id": "95ab2f8d",
   "metadata": {},
   "outputs": [
    {
     "data": {
      "application/vnd.jupyter.widget-view+json": {
       "model_id": "a1c8edaa11b14e928b53e2d7150eb40b",
       "version_major": 2,
       "version_minor": 0
      },
      "text/plain": [
       "Batches:   0%|          | 0/43208 [00:00<?, ?it/s]"
      ]
     },
     "metadata": {},
     "output_type": "display_data"
    },
    {
     "data": {
      "text/plain": [
       "torch.Size([2765260, 1024])"
      ]
     },
     "execution_count": 4,
     "metadata": {},
     "output_type": "execute_result"
    }
   ],
   "source": [
    "from sentence_transformers import SentenceTransformer\n",
    "# Load the SentenceTransformer model for generating embeddings\n",
    "model = SentenceTransformer(\"jinaai/jina-embeddings-v3\", trust_remote_code=True)\n",
    "\n",
    "model.max_seq_length = 512 # Set the maximum sequence length for the model\n",
    "\n",
    "# Define the task type for the model\n",
    "task = \"clustering\"\n",
    "\n",
    "# Encode the combined texts using the SentenceTransformer model\n",
    "embeddings = model.encode(\n",
    "    df[\"abstract\"].to_list(),\n",
    "    show_progress_bar=True,\n",
    "    device=\"cuda\",\n",
    "    convert_to_tensor=True,\n",
    "    batch_size=64\n",
    ")\n",
    "embeddings.shape"
   ]
  },
  {
   "cell_type": "code",
   "execution_count": 6,
   "id": "31999252",
   "metadata": {},
   "outputs": [
    {
     "name": "stdout",
     "output_type": "stream",
     "text": [
      "mbeddings added to dataframe.\n"
     ]
    },
    {
     "name": "stderr",
     "output_type": "stream",
     "text": [
      "Writing chunks: 100%|██████████| 28/28 [02:35<00:00,  5.56s/it]\n"
     ]
    },
    {
     "name": "stdout",
     "output_type": "stream",
     "text": [
      "All chunks written.\n",
      "Loading chunk files with glob...\n",
      "Starting streaming concatenation and sink...\n",
      "Final merged file written with streaming to: arxiv_embeddings_full.parquet\n",
      "Deleting chunk files...\n",
      "All chunk files deleted. Process complete.\n"
     ]
    }
   ],
   "source": [
    "import polars as pl\n",
    "import numpy as np\n",
    "import os\n",
    "import glob\n",
    "from tqdm import tqdm\n",
    "import torch\n",
    "\n",
    "# Convert embeddings to NumPy array if they are a torch tensor\n",
    "if hasattr(embeddings, \"cpu\"):\n",
    "    embeddings = embeddings.cpu().to(torch.float32).numpy()\n",
    "\n",
    "# Add embeddings as separate columns to the Polars dataframe\n",
    "for j in range(embeddings.shape[1]):\n",
    "    df = df.with_columns(pl.Series(f\"emb_{j}\", embeddings[:, j].tolist()))\n",
    "\n",
    "print(\"mbeddings added to dataframe.\")\n",
    "\n",
    "chunk_size = 100000 \n",
    "total_records = len(df)\n",
    "\n",
    "# Write each chunk to a separate Parquet file\n",
    "for i in tqdm(range(0, total_records, chunk_size), desc=\"Writing chunks\"):\n",
    "    chunk = df.slice(i, chunk_size)\n",
    "    chunk_file = f\"arxiv_embeddings_chunk_{i // chunk_size}.parquet\"\n",
    "    chunk.write_parquet(chunk_file)\n",
    "\n",
    "print(\"All chunks written.\")\n",
    "\n",
    "# Use glob to find all chunk files\n",
    "print(\"Loading chunk files with glob...\")\n",
    "\n",
    "chunk_files = sorted(glob.glob(\"arxiv_embeddings_chunk_*.parquet\"))\n",
    "\n",
    "# Efficient lazy concatenation and streaming write\n",
    "print(\"Starting streaming concatenation and sink...\")\n",
    "# Returns a LazyFrame over all files\n",
    "final_lazy_frame = pl.scan_parquet(\"arxiv_embeddings_chunk_*.parquet\")\n",
    "\n",
    "final_file = \"arxiv_embeddings_full.parquet\"\n",
    "final_lazy_frame.sink_parquet(final_file)\n",
    "\n",
    "print(f\"Final merged file written with streaming to: {final_file}\")\n",
    "\n",
    "# Clean up chunk files\n",
    "print(\"Deleting chunk files...\")\n",
    "for file in chunk_files:\n",
    "    os.remove(file)\n",
    "\n",
    "print(\"All chunk files deleted. Process complete.\")\n"
   ]
  },
  {
   "cell_type": "code",
   "execution_count": 7,
   "id": "817d5501",
   "metadata": {},
   "outputs": [
    {
     "data": {
      "text/html": [
       "<div><style>\n",
       ".dataframe > thead > tr,\n",
       ".dataframe > tbody > tr {\n",
       "  text-align: right;\n",
       "  white-space: pre-wrap;\n",
       "}\n",
       "</style>\n",
       "<small>shape: (5, 1_028)</small><table border=\"1\" class=\"dataframe\"><thead><tr><th>title</th><th>authors</th><th>abstract</th><th>year</th><th>emb_0</th><th>emb_1</th><th>emb_2</th><th>emb_3</th><th>emb_4</th><th>emb_5</th><th>emb_6</th><th>emb_7</th><th>emb_8</th><th>emb_9</th><th>emb_10</th><th>emb_11</th><th>emb_12</th><th>emb_13</th><th>emb_14</th><th>emb_15</th><th>emb_16</th><th>emb_17</th><th>emb_18</th><th>emb_19</th><th>emb_20</th><th>emb_21</th><th>emb_22</th><th>emb_23</th><th>emb_24</th><th>emb_25</th><th>emb_26</th><th>emb_27</th><th>emb_28</th><th>emb_29</th><th>emb_30</th><th>emb_31</th><th>emb_32</th><th>&hellip;</th><th>emb_987</th><th>emb_988</th><th>emb_989</th><th>emb_990</th><th>emb_991</th><th>emb_992</th><th>emb_993</th><th>emb_994</th><th>emb_995</th><th>emb_996</th><th>emb_997</th><th>emb_998</th><th>emb_999</th><th>emb_1000</th><th>emb_1001</th><th>emb_1002</th><th>emb_1003</th><th>emb_1004</th><th>emb_1005</th><th>emb_1006</th><th>emb_1007</th><th>emb_1008</th><th>emb_1009</th><th>emb_1010</th><th>emb_1011</th><th>emb_1012</th><th>emb_1013</th><th>emb_1014</th><th>emb_1015</th><th>emb_1016</th><th>emb_1017</th><th>emb_1018</th><th>emb_1019</th><th>emb_1020</th><th>emb_1021</th><th>emb_1022</th><th>emb_1023</th></tr><tr><td>str</td><td>str</td><td>str</td><td>i64</td><td>f64</td><td>f64</td><td>f64</td><td>f64</td><td>f64</td><td>f64</td><td>f64</td><td>f64</td><td>f64</td><td>f64</td><td>f64</td><td>f64</td><td>f64</td><td>f64</td><td>f64</td><td>f64</td><td>f64</td><td>f64</td><td>f64</td><td>f64</td><td>f64</td><td>f64</td><td>f64</td><td>f64</td><td>f64</td><td>f64</td><td>f64</td><td>f64</td><td>f64</td><td>f64</td><td>f64</td><td>f64</td><td>f64</td><td>&hellip;</td><td>f64</td><td>f64</td><td>f64</td><td>f64</td><td>f64</td><td>f64</td><td>f64</td><td>f64</td><td>f64</td><td>f64</td><td>f64</td><td>f64</td><td>f64</td><td>f64</td><td>f64</td><td>f64</td><td>f64</td><td>f64</td><td>f64</td><td>f64</td><td>f64</td><td>f64</td><td>f64</td><td>f64</td><td>f64</td><td>f64</td><td>f64</td><td>f64</td><td>f64</td><td>f64</td><td>f64</td><td>f64</td><td>f64</td><td>f64</td><td>f64</td><td>f64</td><td>f64</td></tr></thead><tbody><tr><td>&quot;Calculation of prompt diphoton…</td><td>&quot;C. Bal\\&#x27;azs, E. L. Berger, P. …</td><td>&quot;A fully differential calculati…</td><td>2008</td><td>0.071777</td><td>0.058838</td><td>0.001869</td><td>0.036621</td><td>0.049316</td><td>-0.099609</td><td>-0.004089</td><td>-0.016968</td><td>-0.037354</td><td>-0.103516</td><td>-0.083984</td><td>0.105469</td><td>-0.057129</td><td>-0.057129</td><td>-0.060791</td><td>0.125</td><td>-0.082031</td><td>0.014404</td><td>0.024902</td><td>-0.172852</td><td>0.031494</td><td>0.09375</td><td>-0.078613</td><td>0.167969</td><td>-0.033447</td><td>0.049316</td><td>-0.05542</td><td>0.0703125</td><td>-0.057617</td><td>0.125977</td><td>0.017944</td><td>-0.02356</td><td>0.08252</td><td>&hellip;</td><td>0.000587</td><td>-0.026367</td><td>-0.013916</td><td>-0.009766</td><td>-0.003738</td><td>-0.033936</td><td>0.019653</td><td>0.022095</td><td>-0.028198</td><td>-0.0271</td><td>0.001114</td><td>0.029419</td><td>-0.017456</td><td>0.006317</td><td>-0.018921</td><td>0.009583</td><td>0.035889</td><td>0.025879</td><td>0.001801</td><td>-0.012817</td><td>0.009583</td><td>-0.000234</td><td>0.010742</td><td>0.008118</td><td>0.048828</td><td>0.026489</td><td>-0.000671</td><td>-0.035156</td><td>0.007599</td><td>-0.019165</td><td>-0.004517</td><td>-0.042236</td><td>-0.020264</td><td>-0.011169</td><td>0.01355</td><td>-0.012451</td><td>0.02002</td></tr><tr><td>&quot;Sparsity-certifying Graph Deco…</td><td>&quot;Ileana Streinu and Louis Thera…</td><td>&quot;We describe a new algorithm, t…</td><td>2008</td><td>0.060791</td><td>-0.129883</td><td>-0.008118</td><td>-0.034668</td><td>0.027222</td><td>0.0703125</td><td>-0.005585</td><td>0.020264</td><td>-0.071289</td><td>0.03125</td><td>-0.056152</td><td>-0.028076</td><td>-0.090332</td><td>0.038086</td><td>0.014465</td><td>-0.036621</td><td>-0.122559</td><td>0.1015625</td><td>-0.014465</td><td>-0.037109</td><td>0.002975</td><td>0.1875</td><td>-0.023193</td><td>0.088867</td><td>0.083984</td><td>-0.008484</td><td>-0.103027</td><td>-0.057129</td><td>-0.155273</td><td>0.031494</td><td>0.120117</td><td>0.104492</td><td>0.033936</td><td>&hellip;</td><td>-0.001846</td><td>-0.007141</td><td>0.001282</td><td>0.003296</td><td>0.033691</td><td>-0.037109</td><td>0.021118</td><td>0.007294</td><td>-0.009583</td><td>0.020752</td><td>-0.001419</td><td>0.022339</td><td>0.035889</td><td>0.012146</td><td>-0.005188</td><td>0.021606</td><td>-0.011536</td><td>-0.051758</td><td>0.022583</td><td>-0.001297</td><td>-0.036133</td><td>-0.016113</td><td>0.020996</td><td>0.017334</td><td>-0.049561</td><td>0.010803</td><td>-0.032715</td><td>0.027222</td><td>0.036621</td><td>0.012695</td><td>-0.004456</td><td>0.013123</td><td>-0.026855</td><td>-0.01532</td><td>-0.002777</td><td>0.011292</td><td>0.016846</td></tr><tr><td>&quot;The evolution of the Earth-Moo…</td><td>&quot;Hongjun Pan&quot;</td><td>&quot;The evolution of Earth-Moon sy…</td><td>2008</td><td>0.120117</td><td>-0.07666</td><td>0.083008</td><td>-0.08252</td><td>0.026489</td><td>-0.124023</td><td>-0.165039</td><td>0.027954</td><td>-0.063965</td><td>-0.010559</td><td>-0.146484</td><td>0.051514</td><td>0.030273</td><td>-0.037598</td><td>-0.053467</td><td>0.026855</td><td>0.055176</td><td>0.040039</td><td>0.018921</td><td>0.032471</td><td>0.047852</td><td>0.131836</td><td>0.016724</td><td>0.030029</td><td>-0.069336</td><td>0.128906</td><td>0.054443</td><td>0.083984</td><td>-0.032715</td><td>-0.016968</td><td>0.001968</td><td>0.018311</td><td>0.043701</td><td>&hellip;</td><td>-0.008972</td><td>-0.022583</td><td>-0.032959</td><td>-0.0177</td><td>0.029785</td><td>0.00206</td><td>0.019043</td><td>0.044922</td><td>0.015625</td><td>0.006134</td><td>-0.032715</td><td>-0.013123</td><td>-0.015869</td><td>0.01416</td><td>0.015747</td><td>0.009644</td><td>0.005005</td><td>0.00769</td><td>-0.012756</td><td>-0.005249</td><td>-0.01123</td><td>-0.001534</td><td>0.018433</td><td>-0.044189</td><td>0.043213</td><td>0.031982</td><td>0.015747</td><td>0.012634</td><td>0.00351</td><td>0.004364</td><td>0.002594</td><td>0.021606</td><td>0.015991</td><td>-0.007233</td><td>-0.001129</td><td>-0.011292</td><td>-0.024658</td></tr><tr><td>&quot;A determinant of Stirling cycl…</td><td>&quot;David Callan&quot;</td><td>&quot;We show that a determinant of …</td><td>2007</td><td>0.068359</td><td>0.027588</td><td>-0.016602</td><td>0.094727</td><td>0.028687</td><td>0.00766</td><td>-0.036621</td><td>0.092773</td><td>-0.067383</td><td>-0.038818</td><td>-0.022339</td><td>0.07959</td><td>-0.134766</td><td>0.143555</td><td>-0.04248</td><td>-0.034424</td><td>-0.093262</td><td>0.1015625</td><td>-0.100586</td><td>-0.022583</td><td>0.03418</td><td>0.198242</td><td>-0.038574</td><td>0.064453</td><td>0.0271</td><td>0.146484</td><td>-0.041748</td><td>0.051025</td><td>-0.085449</td><td>0.03125</td><td>0.014648</td><td>-0.001129</td><td>-0.007751</td><td>&hellip;</td><td>0.006622</td><td>-0.035156</td><td>-0.013</td><td>-0.051025</td><td>-0.004364</td><td>-0.027222</td><td>0.031006</td><td>-0.03418</td><td>-0.029907</td><td>0.011475</td><td>-0.002975</td><td>-0.00766</td><td>0.007477</td><td>0.005737</td><td>-0.035889</td><td>0.029053</td><td>0.016602</td><td>-0.027832</td><td>0.005219</td><td>-0.006958</td><td>-0.033203</td><td>0.002014</td><td>-0.025879</td><td>-0.021729</td><td>-0.002838</td><td>0.026245</td><td>-0.012695</td><td>0.014038</td><td>0.024048</td><td>0.008606</td><td>-0.03064</td><td>0.00412</td><td>-0.039551</td><td>-0.021118</td><td>-0.024048</td><td>-0.019897</td><td>0.028076</td></tr><tr><td>&quot;From dyadic $\\Lambda_{\\alpha}$…</td><td>&quot;Wael Abu-Shammala and Alberto …</td><td>&quot;In this paper we show how to c…</td><td>2013</td><td>-0.015747</td><td>-0.024658</td><td>0.019043</td><td>-0.091797</td><td>-0.009949</td><td>0.031982</td><td>-0.000813</td><td>-0.032715</td><td>-0.030884</td><td>-0.07666</td><td>-0.077637</td><td>0.090332</td><td>-0.101074</td><td>-0.080566</td><td>-0.021851</td><td>-0.004639</td><td>-0.100098</td><td>0.033691</td><td>0.011658</td><td>-0.056641</td><td>-0.058594</td><td>0.234375</td><td>-0.034424</td><td>0.024536</td><td>0.026001</td><td>0.133789</td><td>0.005951</td><td>0.111816</td><td>-0.093262</td><td>0.036133</td><td>0.125</td><td>0.008789</td><td>0.020264</td><td>&hellip;</td><td>0.007721</td><td>0.0047</td><td>-0.008911</td><td>-0.032715</td><td>-0.004517</td><td>-0.039062</td><td>0.032227</td><td>-0.006317</td><td>0.013123</td><td>0.015625</td><td>0.029541</td><td>0.004089</td><td>-0.013367</td><td>-0.010132</td><td>-0.020752</td><td>-0.008179</td><td>-0.017334</td><td>-0.033691</td><td>0.022339</td><td>-0.001747</td><td>-0.016357</td><td>0.013611</td><td>0.014099</td><td>-0.028931</td><td>0.018188</td><td>0.007324</td><td>-0.03125</td><td>-0.044922</td><td>0.028564</td><td>0.003784</td><td>-0.023804</td><td>-0.026001</td><td>-0.014771</td><td>0.021118</td><td>0.002594</td><td>-0.018677</td><td>0.026001</td></tr></tbody></table></div>"
      ],
      "text/plain": [
       "shape: (5, 1_028)\n",
       "┌─────────────┬────────────┬────────────┬──────┬───┬───────────┬───────────┬───────────┬───────────┐\n",
       "│ title       ┆ authors    ┆ abstract   ┆ year ┆ … ┆ emb_1020  ┆ emb_1021  ┆ emb_1022  ┆ emb_1023  │\n",
       "│ ---         ┆ ---        ┆ ---        ┆ ---  ┆   ┆ ---       ┆ ---       ┆ ---       ┆ ---       │\n",
       "│ str         ┆ str        ┆ str        ┆ i64  ┆   ┆ f64       ┆ f64       ┆ f64       ┆ f64       │\n",
       "╞═════════════╪════════════╪════════════╪══════╪═══╪═══════════╪═══════════╪═══════════╪═══════════╡\n",
       "│ Calculation ┆ C.         ┆ A fully    ┆ 2008 ┆ … ┆ -0.011169 ┆ 0.01355   ┆ -0.012451 ┆ 0.02002   │\n",
       "│ of prompt   ┆ Bal\\'azs,  ┆ differenti ┆      ┆   ┆           ┆           ┆           ┆           │\n",
       "│ diphoton…   ┆ E. L.      ┆ al         ┆      ┆   ┆           ┆           ┆           ┆           │\n",
       "│             ┆ Berger, P. ┆ calculati… ┆      ┆   ┆           ┆           ┆           ┆           │\n",
       "│             ┆ …          ┆            ┆      ┆   ┆           ┆           ┆           ┆           │\n",
       "│ Sparsity-ce ┆ Ileana     ┆ We         ┆ 2008 ┆ … ┆ -0.01532  ┆ -0.002777 ┆ 0.011292  ┆ 0.016846  │\n",
       "│ rtifying    ┆ Streinu    ┆ describe a ┆      ┆   ┆           ┆           ┆           ┆           │\n",
       "│ Graph Deco… ┆ and Louis  ┆ new        ┆      ┆   ┆           ┆           ┆           ┆           │\n",
       "│             ┆ Thera…     ┆ algorithm, ┆      ┆   ┆           ┆           ┆           ┆           │\n",
       "│             ┆            ┆ t…         ┆      ┆   ┆           ┆           ┆           ┆           │\n",
       "│ The         ┆ Hongjun    ┆ The        ┆ 2008 ┆ … ┆ -0.007233 ┆ -0.001129 ┆ -0.011292 ┆ -0.024658 │\n",
       "│ evolution   ┆ Pan        ┆ evolution  ┆      ┆   ┆           ┆           ┆           ┆           │\n",
       "│ of the      ┆            ┆ of         ┆      ┆   ┆           ┆           ┆           ┆           │\n",
       "│ Earth-Moo…  ┆            ┆ Earth-Moon ┆      ┆   ┆           ┆           ┆           ┆           │\n",
       "│             ┆            ┆ sy…        ┆      ┆   ┆           ┆           ┆           ┆           │\n",
       "│ A           ┆ David      ┆ We show    ┆ 2007 ┆ … ┆ -0.021118 ┆ -0.024048 ┆ -0.019897 ┆ 0.028076  │\n",
       "│ determinant ┆ Callan     ┆ that a det ┆      ┆   ┆           ┆           ┆           ┆           │\n",
       "│ of Stirling ┆            ┆ erminant   ┆      ┆   ┆           ┆           ┆           ┆           │\n",
       "│ cycl…       ┆            ┆ of …       ┆      ┆   ┆           ┆           ┆           ┆           │\n",
       "│ From dyadic ┆ Wael Abu-S ┆ In this    ┆ 2013 ┆ … ┆ 0.021118  ┆ 0.002594  ┆ -0.018677 ┆ 0.026001  │\n",
       "│ $\\Lambda_{\\ ┆ hammala    ┆ paper we   ┆      ┆   ┆           ┆           ┆           ┆           │\n",
       "│ alpha}$…    ┆ and        ┆ show how   ┆      ┆   ┆           ┆           ┆           ┆           │\n",
       "│             ┆ Alberto …  ┆ to c…      ┆      ┆   ┆           ┆           ┆           ┆           │\n",
       "└─────────────┴────────────┴────────────┴──────┴───┴───────────┴───────────┴───────────┴───────────┘"
      ]
     },
     "execution_count": 7,
     "metadata": {},
     "output_type": "execute_result"
    }
   ],
   "source": [
    "import polars as pl\n",
    "\n",
    "pl.scan_parquet(\"arxiv_embeddings_full.parquet\").head().collect()"
   ]
  }
 ],
 "metadata": {
  "kernelspec": {
   "display_name": "dti5125-finalproject",
   "language": "python",
   "name": "python3"
  },
  "language_info": {
   "codemirror_mode": {
    "name": "ipython",
    "version": 3
   },
   "file_extension": ".py",
   "mimetype": "text/x-python",
   "name": "python",
   "nbconvert_exporter": "python",
   "pygments_lexer": "ipython3",
   "version": "3.12.10"
  }
 },
 "nbformat": 4,
 "nbformat_minor": 5
}
