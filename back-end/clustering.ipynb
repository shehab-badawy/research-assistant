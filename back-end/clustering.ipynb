{
 "cells": [
  {
   "cell_type": "markdown",
   "id": "6bd9b26b",
   "metadata": {},
   "source": [
    "# Getting the data from the embeddings"
   ]
  },
  {
   "cell_type": "code",
   "execution_count": 9,
   "id": "c4feb7e4",
   "metadata": {},
   "outputs": [],
   "source": [
    "import polars as pl\n",
    "import numpy as np\n",
    "\n",
    "embedding_cols = [f\"emb_{i}\" for i in range(1024)]\n",
    "\n",
    "df = pl.scan_parquet(\"arxiv_embeddings_full.parquet\")\n",
    "\n",
    "# Convert to fixed-size Float32 array after concatenating\n",
    "df_embeddings_only = df.select(\n",
    "    pl.concat_arr(embedding_cols)\n",
    "    .cast(pl.Array(pl.Float32, 1024))\n",
    "    .alias(\"embeddings\")\n",
    ").collect()\n",
    "\n",
    "df_embeddings_only.write_parquet(\"arxiv_embeddings_fixed.parquet\")\n"
   ]
  },
  {
   "cell_type": "code",
   "execution_count": 10,
   "id": "2b8a52c2",
   "metadata": {},
   "outputs": [],
   "source": [
    "# Free up memory\n",
    "del df_embeddings_only\n",
    "del df"
   ]
  },
  {
   "cell_type": "markdown",
   "id": "c498e3d8",
   "metadata": {},
   "source": [
    "## Reducing dimensions"
   ]
  },
  {
   "cell_type": "code",
   "execution_count": 1,
   "id": "da9d3920",
   "metadata": {},
   "outputs": [
    {
     "name": "stdout",
     "output_type": "stream",
     "text": [
      "Shape of the resulting DataFrame: (2765260, 512)\n",
      "Columns in the DataFrame: ['emb_0', 'emb_1', 'emb_2', 'emb_3', 'emb_4', 'emb_5', 'emb_6', 'emb_7', 'emb_8', 'emb_9', 'emb_10', 'emb_11', 'emb_12', 'emb_13', 'emb_14', 'emb_15', 'emb_16', 'emb_17', 'emb_18', 'emb_19', 'emb_20', 'emb_21', 'emb_22', 'emb_23', 'emb_24', 'emb_25', 'emb_26', 'emb_27', 'emb_28', 'emb_29', 'emb_30', 'emb_31', 'emb_32', 'emb_33', 'emb_34', 'emb_35', 'emb_36', 'emb_37', 'emb_38', 'emb_39', 'emb_40', 'emb_41', 'emb_42', 'emb_43', 'emb_44', 'emb_45', 'emb_46', 'emb_47', 'emb_48', 'emb_49', 'emb_50', 'emb_51', 'emb_52', 'emb_53', 'emb_54', 'emb_55', 'emb_56', 'emb_57', 'emb_58', 'emb_59', 'emb_60', 'emb_61', 'emb_62', 'emb_63', 'emb_64', 'emb_65', 'emb_66', 'emb_67', 'emb_68', 'emb_69', 'emb_70', 'emb_71', 'emb_72', 'emb_73', 'emb_74', 'emb_75', 'emb_76', 'emb_77', 'emb_78', 'emb_79', 'emb_80', 'emb_81', 'emb_82', 'emb_83', 'emb_84', 'emb_85', 'emb_86', 'emb_87', 'emb_88', 'emb_89', 'emb_90', 'emb_91', 'emb_92', 'emb_93', 'emb_94', 'emb_95', 'emb_96', 'emb_97', 'emb_98', 'emb_99', 'emb_100', 'emb_101', 'emb_102', 'emb_103', 'emb_104', 'emb_105', 'emb_106', 'emb_107', 'emb_108', 'emb_109', 'emb_110', 'emb_111', 'emb_112', 'emb_113', 'emb_114', 'emb_115', 'emb_116', 'emb_117', 'emb_118', 'emb_119', 'emb_120', 'emb_121', 'emb_122', 'emb_123', 'emb_124', 'emb_125', 'emb_126', 'emb_127', 'emb_128', 'emb_129', 'emb_130', 'emb_131', 'emb_132', 'emb_133', 'emb_134', 'emb_135', 'emb_136', 'emb_137', 'emb_138', 'emb_139', 'emb_140', 'emb_141', 'emb_142', 'emb_143', 'emb_144', 'emb_145', 'emb_146', 'emb_147', 'emb_148', 'emb_149', 'emb_150', 'emb_151', 'emb_152', 'emb_153', 'emb_154', 'emb_155', 'emb_156', 'emb_157', 'emb_158', 'emb_159', 'emb_160', 'emb_161', 'emb_162', 'emb_163', 'emb_164', 'emb_165', 'emb_166', 'emb_167', 'emb_168', 'emb_169', 'emb_170', 'emb_171', 'emb_172', 'emb_173', 'emb_174', 'emb_175', 'emb_176', 'emb_177', 'emb_178', 'emb_179', 'emb_180', 'emb_181', 'emb_182', 'emb_183', 'emb_184', 'emb_185', 'emb_186', 'emb_187', 'emb_188', 'emb_189', 'emb_190', 'emb_191', 'emb_192', 'emb_193', 'emb_194', 'emb_195', 'emb_196', 'emb_197', 'emb_198', 'emb_199', 'emb_200', 'emb_201', 'emb_202', 'emb_203', 'emb_204', 'emb_205', 'emb_206', 'emb_207', 'emb_208', 'emb_209', 'emb_210', 'emb_211', 'emb_212', 'emb_213', 'emb_214', 'emb_215', 'emb_216', 'emb_217', 'emb_218', 'emb_219', 'emb_220', 'emb_221', 'emb_222', 'emb_223', 'emb_224', 'emb_225', 'emb_226', 'emb_227', 'emb_228', 'emb_229', 'emb_230', 'emb_231', 'emb_232', 'emb_233', 'emb_234', 'emb_235', 'emb_236', 'emb_237', 'emb_238', 'emb_239', 'emb_240', 'emb_241', 'emb_242', 'emb_243', 'emb_244', 'emb_245', 'emb_246', 'emb_247', 'emb_248', 'emb_249', 'emb_250', 'emb_251', 'emb_252', 'emb_253', 'emb_254', 'emb_255', 'emb_256', 'emb_257', 'emb_258', 'emb_259', 'emb_260', 'emb_261', 'emb_262', 'emb_263', 'emb_264', 'emb_265', 'emb_266', 'emb_267', 'emb_268', 'emb_269', 'emb_270', 'emb_271', 'emb_272', 'emb_273', 'emb_274', 'emb_275', 'emb_276', 'emb_277', 'emb_278', 'emb_279', 'emb_280', 'emb_281', 'emb_282', 'emb_283', 'emb_284', 'emb_285', 'emb_286', 'emb_287', 'emb_288', 'emb_289', 'emb_290', 'emb_291', 'emb_292', 'emb_293', 'emb_294', 'emb_295', 'emb_296', 'emb_297', 'emb_298', 'emb_299', 'emb_300', 'emb_301', 'emb_302', 'emb_303', 'emb_304', 'emb_305', 'emb_306', 'emb_307', 'emb_308', 'emb_309', 'emb_310', 'emb_311', 'emb_312', 'emb_313', 'emb_314', 'emb_315', 'emb_316', 'emb_317', 'emb_318', 'emb_319', 'emb_320', 'emb_321', 'emb_322', 'emb_323', 'emb_324', 'emb_325', 'emb_326', 'emb_327', 'emb_328', 'emb_329', 'emb_330', 'emb_331', 'emb_332', 'emb_333', 'emb_334', 'emb_335', 'emb_336', 'emb_337', 'emb_338', 'emb_339', 'emb_340', 'emb_341', 'emb_342', 'emb_343', 'emb_344', 'emb_345', 'emb_346', 'emb_347', 'emb_348', 'emb_349', 'emb_350', 'emb_351', 'emb_352', 'emb_353', 'emb_354', 'emb_355', 'emb_356', 'emb_357', 'emb_358', 'emb_359', 'emb_360', 'emb_361', 'emb_362', 'emb_363', 'emb_364', 'emb_365', 'emb_366', 'emb_367', 'emb_368', 'emb_369', 'emb_370', 'emb_371', 'emb_372', 'emb_373', 'emb_374', 'emb_375', 'emb_376', 'emb_377', 'emb_378', 'emb_379', 'emb_380', 'emb_381', 'emb_382', 'emb_383', 'emb_384', 'emb_385', 'emb_386', 'emb_387', 'emb_388', 'emb_389', 'emb_390', 'emb_391', 'emb_392', 'emb_393', 'emb_394', 'emb_395', 'emb_396', 'emb_397', 'emb_398', 'emb_399', 'emb_400', 'emb_401', 'emb_402', 'emb_403', 'emb_404', 'emb_405', 'emb_406', 'emb_407', 'emb_408', 'emb_409', 'emb_410', 'emb_411', 'emb_412', 'emb_413', 'emb_414', 'emb_415', 'emb_416', 'emb_417', 'emb_418', 'emb_419', 'emb_420', 'emb_421', 'emb_422', 'emb_423', 'emb_424', 'emb_425', 'emb_426', 'emb_427', 'emb_428', 'emb_429', 'emb_430', 'emb_431', 'emb_432', 'emb_433', 'emb_434', 'emb_435', 'emb_436', 'emb_437', 'emb_438', 'emb_439', 'emb_440', 'emb_441', 'emb_442', 'emb_443', 'emb_444', 'emb_445', 'emb_446', 'emb_447', 'emb_448', 'emb_449', 'emb_450', 'emb_451', 'emb_452', 'emb_453', 'emb_454', 'emb_455', 'emb_456', 'emb_457', 'emb_458', 'emb_459', 'emb_460', 'emb_461', 'emb_462', 'emb_463', 'emb_464', 'emb_465', 'emb_466', 'emb_467', 'emb_468', 'emb_469', 'emb_470', 'emb_471', 'emb_472', 'emb_473', 'emb_474', 'emb_475', 'emb_476', 'emb_477', 'emb_478', 'emb_479', 'emb_480', 'emb_481', 'emb_482', 'emb_483', 'emb_484', 'emb_485', 'emb_486', 'emb_487', 'emb_488', 'emb_489', 'emb_490', 'emb_491', 'emb_492', 'emb_493', 'emb_494', 'emb_495', 'emb_496', 'emb_497', 'emb_498', 'emb_499', 'emb_500', 'emb_501', 'emb_502', 'emb_503', 'emb_504', 'emb_505', 'emb_506', 'emb_507', 'emb_508', 'emb_509', 'emb_510', 'emb_511']\n",
      "\n",
      "Shape of the NumPy array: (2765260, 512)\n"
     ]
    }
   ],
   "source": [
    "import polars as pl\n",
    "\n",
    "# Step 1: Define the names of the first 512 embedding columns you want to keep.\n",
    "columns_to_keep = [f\"emb_{i}\" for i in range(512)]\n",
    "\n",
    "# Step 2: Use scan_parquet for a memory-efficient lazy scan of the original file.\n",
    "# The original file is the one with 1024 individual embedding columns.\n",
    "df_lazy = pl.scan_parquet(\"arxiv_embeddings_full.parquet\")\n",
    "\n",
    "# Step 3: Select only the first 512 columns from the DataFrame.\n",
    "# .collect() executes the plan and loads the result into memory.\n",
    "df_first_512 = df_lazy.select(columns_to_keep).collect()\n",
    "\n",
    "# Now, df_first_512 is a DataFrame with exactly 512 columns: emb_0, emb_1, ..., emb_511.\n",
    "print(\"Shape of the resulting DataFrame:\", df_first_512.shape)\n",
    "print(\"Columns in the DataFrame:\", df_first_512.columns)\n",
    "\n",
    "# You can now proceed with operations like converting to a NumPy array for PCA.\n",
    "embedding_array = df_first_512.to_numpy()\n",
    "\n",
    "print(\"\\nShape of the NumPy array:\", embedding_array.shape)"
   ]
  },
  {
   "cell_type": "markdown",
   "id": "24be0ac4",
   "metadata": {},
   "source": [
    "# Performing HDBSCAN clustering"
   ]
  },
  {
   "cell_type": "code",
   "execution_count": 3,
   "id": "2cfb1c68",
   "metadata": {},
   "outputs": [],
   "source": [
    "# Perform clustering on the reduced embeddings with HDBSCAN\n",
    "import fast_hdbscan\n",
    "\n",
    "hdbscan_clusterer = fast_hdbscan.HDBSCAN(\n",
    "    #min_cluster_size=10,\n",
    "    min_samples=10,\n",
    "    #metric='euclidean',\n",
    "    #cluster_selection_method='eom'\n",
    ")\n",
    "hdbscan_labels = hdbscan_clusterer.fit_predict(embedding_array)"
   ]
  },
  {
   "cell_type": "code",
   "execution_count": 4,
   "id": "b9e32964",
   "metadata": {},
   "outputs": [],
   "source": [
    "# Save the clustering results to a parquet file\n",
    "import polars as pl \n",
    "df_clusters = pl.DataFrame({\n",
    "    \"cluster\": hdbscan_labels,\n",
    "    **{f\"emb_{i}\": embedding_array[:, i] for i in range(embedding_array.shape[1])}\n",
    "})\n",
    "df_clusters.write_parquet(\"arxiv_clusters.parquet\")"
   ]
  },
  {
   "cell_type": "markdown",
   "id": "b9e5c9f9",
   "metadata": {},
   "source": [
    "### Findings: Too much noise in HDBSCAN"
   ]
  },
  {
   "cell_type": "code",
   "execution_count": 20,
   "id": "21fbbd1c",
   "metadata": {},
   "outputs": [
    {
     "name": "stdout",
     "output_type": "stream",
     "text": [
      "Layer 0: 0.86 noise\n",
      "Number of Clusters in Layer 0: 32556\n",
      "Layer 1: 0.84 noise\n",
      "Number of Clusters in Layer 1: 9511\n",
      "Layer 2: 0.81 noise\n",
      "Number of Clusters in Layer 2: 2750\n",
      "Layer 3: 0.78 noise\n",
      "Number of Clusters in Layer 3: 791\n",
      "Layer 4: 0.73 noise\n",
      "Number of Clusters in Layer 4: 242\n",
      "Layer 5: 0.70 noise\n",
      "Number of Clusters in Layer 5: 75\n",
      "Layer 6: 0.70 noise\n",
      "Number of Clusters in Layer 6: 25\n",
      "Layer 7: 0.64 noise\n",
      "Number of Clusters in Layer 7: 9\n",
      "Layer 8: 0.47 noise\n",
      "Number of Clusters in Layer 8: 4\n"
     ]
    }
   ],
   "source": [
    "import evoc\n",
    "import numpy as np\n",
    "from numba import set_num_threads\n",
    "\n",
    "\n",
    "\n",
    "\n",
    "set_num_threads(12)\n",
    "\n",
    "#take a random sample of the embeddings\n",
    "#embedding_array_sample = embedding_array[np.random.choice(embedding_array.shape[0], 10000, replace=False)]\n",
    "\n",
    "#Perform the clustering using EVoC\n",
    "clusterer = evoc.EVoC(\n",
    "    noise_level= 0.0,\n",
    "    #approx_n_clusters = 400,\n",
    "    n_neighbors= 100,\n",
    "    #min_num_clusters = 100\n",
    ")\n",
    "\n",
    "cluster_labelsEVoC = clusterer.fit_predict(embedding_array)\n",
    "cluster_layersEVoC = clusterer.cluster_layers_\n",
    "\n",
    "# The first layer is the finest, later layers are coarser\n",
    "# You can check the noise level in each layer\n",
    "for i, layer in enumerate(cluster_layersEVoC):\n",
    "    noise = np.sum(layer == -1) / len(layer)\n",
    "    print(f\"Layer {i}: {noise:.2f} noise\")\n",
    "    print(f\"Number of Clusters in Layer {i}: {len(set(layer)) - (1 if -1 in layer else 0)}\")"
   ]
  },
  {
   "cell_type": "code",
   "execution_count": 21,
   "id": "5ff8c220",
   "metadata": {},
   "outputs": [
    {
     "name": "stdout",
     "output_type": "stream",
     "text": [
      "Silhouette score (sample of 100,000): 0.0014\n"
     ]
    }
   ],
   "source": [
    "from sklearn.metrics import silhouette_score\n",
    "import numpy as np\n",
    "\n",
    "# Sample 100,000 embeddings + labels for silhouette score\n",
    "np.random.seed(69)\n",
    "sample_size = 100_000\n",
    "if embedding_array.shape[0] > sample_size:\n",
    "    sample_idx = np.random.choice(embedding_array.shape[0], size=sample_size, replace=False)\n",
    "else:\n",
    "    sample_idx = np.arange(embedding_array.shape[0])\n",
    "\n",
    "sample_embeddings = embedding_array[sample_idx]\n",
    "sample_labels = cluster_labelsEVoC[sample_idx]\n",
    "\n",
    "# Compute silhouette score\n",
    "sil_score = silhouette_score(sample_embeddings, sample_labels)\n",
    "print(f\"Silhouette score (sample of 100,000): {sil_score:.4f}\")\n"
   ]
  },
  {
   "cell_type": "code",
   "execution_count": 22,
   "id": "7260984b",
   "metadata": {},
   "outputs": [
    {
     "name": "stdout",
     "output_type": "stream",
     "text": [
      "Weighted Average Intra-Cluster Coherence: 0.2599\n",
      "\n",
      "Cluster  2 (Size: 251168): 0.3462\n",
      "Cluster  1 (Size: 588715): 0.3083\n",
      "Cluster  3 (Size: 353311): 0.2716\n",
      "Cluster  0 (Size: 259757): 0.2575\n",
      "Cluster -1 (Size: 1312309): 0.2190\n"
     ]
    }
   ],
   "source": [
    "import numpy as np\n",
    "\n",
    "# Assume embedding_array and kmeans_labels are pre-existing variables\n",
    "# Example placeholder data:\n",
    "# embedding_array = np.random.rand(1000, 512)\n",
    "# kmeans_labels = np.random.randint(0, 20, 1000)\n",
    "\n",
    "cluster_coherence = {}\n",
    "unique_labels = np.unique(cluster_labelsEVoC)\n",
    "\n",
    "for cluster_id in unique_labels:\n",
    "    indices = np.where(cluster_labelsEVoC == cluster_id)[0]\n",
    "    n = len(indices)\n",
    "\n",
    "    if n <= 1:\n",
    "        cluster_coherence[cluster_id] = np.nan\n",
    "        continue\n",
    "\n",
    "    cluster_embeddings = embedding_array[indices]\n",
    "\n",
    "    # --- Fast & Memory-Safe Calculation ---\n",
    "    # 1. Normalize each embedding vector to have a length of 1.\n",
    "    norms = np.linalg.norm(cluster_embeddings, axis=1, keepdims=True)\n",
    "    norms[norms == 0] = 1e-9  # Avoid division by zero for zero-vectors\n",
    "    normalized_embeddings = cluster_embeddings / norms\n",
    "\n",
    "    # 2. Calculate the sum of all normalized vectors in the cluster.\n",
    "    sum_vector = np.sum(normalized_embeddings, axis=0)\n",
    "\n",
    "    # 3. Calculate the squared magnitude of the sum vector.\n",
    "    # This is equivalent to the sum of all elements in the full similarity matrix.\n",
    "    sum_of_all_similarities = np.dot(sum_vector, sum_vector)\n",
    "\n",
    "    # 4. Calculate the sum of only the unique pairwise similarities.\n",
    "    # We subtract n to remove the diagonal (where vectors are compared to themselves).\n",
    "    sum_of_pairwise_similarities = (sum_of_all_similarities - n) / 2\n",
    "\n",
    "    # 5. Calculate the number of unique pairs.\n",
    "    num_pairs = (n * (n - 1)) / 2\n",
    "\n",
    "    # 6. The average coherence is the total sum divided by the number of pairs.\n",
    "    if num_pairs > 0:\n",
    "        cluster_coherence[cluster_id] = sum_of_pairwise_similarities / num_pairs\n",
    "    else:\n",
    "        cluster_coherence[cluster_id] = np.nan # Should not happen due to n > 1 check\n",
    "\n",
    "\n",
    "# --- Reporting (same as before) ---\n",
    "total_docs = 0\n",
    "weighted_sum_coherence = 0\n",
    "for cluster_id, score in cluster_coherence.items():\n",
    "    if not np.isnan(score):\n",
    "        size = np.sum(cluster_labelsEVoC == cluster_id)\n",
    "        weighted_sum_coherence += score * size\n",
    "        total_docs += size\n",
    "\n",
    "if total_docs > 0:\n",
    "    overall_average_coherence = weighted_sum_coherence / total_docs\n",
    "    print(f\"Weighted Average Intra-Cluster Coherence: {overall_average_coherence:.4f}\\n\")\n",
    "\n",
    "sorted_clusters = sorted(cluster_coherence.items(), key=lambda item: item[1], reverse=True)\n",
    "\n",
    "for cluster_id, score in sorted_clusters:\n",
    "    size = np.sum(cluster_labelsEVoC == cluster_id)\n",
    "    if not np.isnan(score):\n",
    "        print(f\"Cluster {cluster_id:2d} (Size: {size:5d}): {score:.4f}\")\n",
    "    else:\n",
    "        print(f\"Cluster {cluster_id:2d} (Size: {size:5d}): NaN\")"
   ]
  },
  {
   "cell_type": "markdown",
   "id": "88e07559",
   "metadata": {},
   "source": [
    "### Findings: Too much noise in EVoC, silhouette is very low, coherence is low"
   ]
  },
  {
   "cell_type": "markdown",
   "id": "1d889aa1",
   "metadata": {},
   "source": [
    "# Performing K-Means clustering"
   ]
  },
  {
   "cell_type": "code",
   "execution_count": 14,
   "id": "ea441585",
   "metadata": {},
   "outputs": [
    {
     "data": {
      "image/png": "[encoded data removed]",
      "text/plain": [
       "<Figure size 800x600 with 1 Axes>"
      ]
     },
     "metadata": {},
     "output_type": "display_data"
    }
   ],
   "source": [
    "import numpy as np\n",
    "import matplotlib.pyplot as plt\n",
    "from sklearn.cluster import KMeans\n",
    "\n",
    "# Randomly sample 100,000 rows from the embedding array\n",
    "np.random.seed(42)\n",
    "sample_size = 100_000\n",
    "if embedding_array.shape[0] > sample_size:\n",
    "    indices = np.random.choice(embedding_array.shape[0], size=sample_size, replace=False)\n",
    "    sample_embeddings = embedding_array[indices]\n",
    "else:\n",
    "    sample_embeddings = embedding_array  # Use all data if fewer than 100k rows\n",
    "\n",
    "# Define the range of k values to test\n",
    "k_values = range(1, 11)\n",
    "\n",
    "# Initialize empty list to store WCSS values for each k\n",
    "wcss = []\n",
    "\n",
    "# Calculate WCSS for each k\n",
    "for k in k_values:\n",
    "    kmeans = KMeans(n_clusters=k, random_state=42)\n",
    "    kmeans.fit(sample_embeddings)\n",
    "    wcss.append(kmeans.inertia_)\n",
    "\n",
    "# Plot the elbow method\n",
    "plt.figure(figsize=(8, 6))\n",
    "plt.plot(k_values, wcss, marker='o', linestyle='-', color='b', markerfacecolor='r', markersize=8)\n",
    "plt.title('Elbow Method for Optimal k (Sample of 100,000)')\n",
    "plt.xlabel('Number of clusters (k)')\n",
    "plt.ylabel('Within-cluster Sum of Squares (WCSS)')\n",
    "plt.xticks(k_values)\n",
    "plt.grid(True)\n",
    "plt.show()\n"
   ]
  },
  {
   "cell_type": "markdown",
   "id": "fb90a04a",
   "metadata": {},
   "source": [
    "### Kmeans using K = 6"
   ]
  },
  {
   "cell_type": "code",
   "execution_count": 14,
   "id": "b2fa90a5",
   "metadata": {},
   "outputs": [
    {
     "name": "stdout",
     "output_type": "stream",
     "text": [
      "Running KMeans on full dataset with k=6...\n"
     ]
    },
    {
     "name": "stderr",
     "output_type": "stream",
     "text": [
      "KMeans fitting: 100%|██████████| 1/1 [02:43<00:00, 163.48s/it]\n"
     ]
    }
   ],
   "source": [
    "from sklearn.cluster import KMeans\n",
    "from tqdm import tqdm\n",
    "\n",
    "print(\"Running KMeans on full dataset with k=6...\")\n",
    "for _ in tqdm(range(1), desc=\"KMeans fitting\"):\n",
    "    kmeans = KMeans(n_clusters=6, random_state=42)\n",
    "    kmeans_labels = kmeans.fit_predict(embedding_array)\n"
   ]
  },
  {
   "cell_type": "code",
   "execution_count": 15,
   "id": "38a87dd0",
   "metadata": {},
   "outputs": [
    {
     "name": "stdout",
     "output_type": "stream",
     "text": [
      "Silhouette score (sample of 100,000): 0.0360\n"
     ]
    }
   ],
   "source": [
    "from sklearn.metrics import silhouette_score\n",
    "import numpy as np\n",
    "\n",
    "# Sample 100,000 embeddings + labels for silhouette score\n",
    "np.random.seed(69)\n",
    "sample_size = 100_000\n",
    "if embedding_array.shape[0] > sample_size:\n",
    "    sample_idx = np.random.choice(embedding_array.shape[0], size=sample_size, replace=False)\n",
    "else:\n",
    "    sample_idx = np.arange(embedding_array.shape[0])\n",
    "\n",
    "sample_embeddings = embedding_array[sample_idx]\n",
    "sample_labels = kmeans_labels[sample_idx]\n",
    "\n",
    "# Compute silhouette score\n",
    "sil_score = silhouette_score(sample_embeddings, sample_labels)\n",
    "print(f\"Silhouette score (sample of 100,000): {sil_score:.4f}\")"
   ]
  },
  {
   "cell_type": "code",
   "execution_count": 19,
   "id": "accf4774",
   "metadata": {},
   "outputs": [
    {
     "name": "stdout",
     "output_type": "stream",
     "text": [
      "Weighted Average Intra-Cluster Coherence: 0.3096\n",
      "\n",
      "Cluster  4 (Size: 426113): 0.3626\n",
      "Cluster  5 (Size: 460150): 0.3521\n",
      "Cluster  2 (Size: 331861): 0.3369\n",
      "Cluster  1 (Size: 451754): 0.2966\n",
      "Cluster  0 (Size: 586018): 0.2738\n",
      "Cluster  3 (Size: 509364): 0.2619\n"
     ]
    }
   ],
   "source": [
    "import numpy as np\n",
    "\n",
    "# Assume embedding_array and kmeans_labels are pre-existing variables\n",
    "# Example placeholder data:\n",
    "# embedding_array = np.random.rand(1000, 512)\n",
    "# kmeans_labels = np.random.randint(0, 20, 1000)\n",
    "\n",
    "cluster_coherence = {}\n",
    "unique_labels = np.unique(kmeans_labels)\n",
    "\n",
    "for cluster_id in unique_labels:\n",
    "    indices = np.where(kmeans_labels == cluster_id)[0]\n",
    "    n = len(indices)\n",
    "\n",
    "    if n <= 1:\n",
    "        cluster_coherence[cluster_id] = np.nan\n",
    "        continue\n",
    "\n",
    "    cluster_embeddings = embedding_array[indices]\n",
    "\n",
    "    # --- Fast & Memory-Safe Calculation ---\n",
    "    # 1. Normalize each embedding vector to have a length of 1.\n",
    "    norms = np.linalg.norm(cluster_embeddings, axis=1, keepdims=True)\n",
    "    norms[norms == 0] = 1e-9  # Avoid division by zero for zero-vectors\n",
    "    normalized_embeddings = cluster_embeddings / norms\n",
    "\n",
    "    # 2. Calculate the sum of all normalized vectors in the cluster.\n",
    "    sum_vector = np.sum(normalized_embeddings, axis=0)\n",
    "\n",
    "    # 3. Calculate the squared magnitude of the sum vector.\n",
    "    # This is equivalent to the sum of all elements in the full similarity matrix.\n",
    "    sum_of_all_similarities = np.dot(sum_vector, sum_vector)\n",
    "\n",
    "    # 4. Calculate the sum of only the unique pairwise similarities.\n",
    "    # We subtract n to remove the diagonal (where vectors are compared to themselves).\n",
    "    sum_of_pairwise_similarities = (sum_of_all_similarities - n) / 2\n",
    "\n",
    "    # 5. Calculate the number of unique pairs.\n",
    "    num_pairs = (n * (n - 1)) / 2\n",
    "\n",
    "    # 6. The average coherence is the total sum divided by the number of pairs.\n",
    "    if num_pairs > 0:\n",
    "        cluster_coherence[cluster_id] = sum_of_pairwise_similarities / num_pairs\n",
    "    else:\n",
    "        cluster_coherence[cluster_id] = np.nan # Should not happen due to n > 1 check\n",
    "\n",
    "\n",
    "# --- Reporting (same as before) ---\n",
    "total_docs = 0\n",
    "weighted_sum_coherence = 0\n",
    "for cluster_id, score in cluster_coherence.items():\n",
    "    if not np.isnan(score):\n",
    "        size = np.sum(kmeans_labels == cluster_id)\n",
    "        weighted_sum_coherence += score * size\n",
    "        total_docs += size\n",
    "\n",
    "if total_docs > 0:\n",
    "    overall_average_coherence = weighted_sum_coherence / total_docs\n",
    "    print(f\"Weighted Average Intra-Cluster Coherence: {overall_average_coherence:.4f}\\n\")\n",
    "\n",
    "sorted_clusters = sorted(cluster_coherence.items(), key=lambda item: item[1], reverse=True)\n",
    "\n",
    "for cluster_id, score in sorted_clusters:\n",
    "    size = np.sum(kmeans_labels == cluster_id)\n",
    "    if not np.isnan(score):\n",
    "        print(f\"Cluster {cluster_id:2d} (Size: {size:5d}): {score:.4f}\")\n",
    "    else:\n",
    "        print(f\"Cluster {cluster_id:2d} (Size: {size:5d}): NaN\")"
   ]
  },
  {
   "cell_type": "markdown",
   "id": "26f8e2a8",
   "metadata": {},
   "source": [
    "### Findings: Coherence is low, Silhouette is low."
   ]
  },
  {
   "cell_type": "markdown",
   "id": "dbaf7062",
   "metadata": {},
   "source": [
    "# Graph-like clustering"
   ]
  },
  {
   "cell_type": "code",
   "execution_count": 8,
   "id": "c3f0e811",
   "metadata": {},
   "outputs": [
    {
     "name": "stdout",
     "output_type": "stream",
     "text": [
      "Cluster label distribution: [53458 82567 47444 58857 34484 70904 63037 56418 47532 74448 37197 46135\n",
      " 60601 78102 43773 41695 55765 72496 66343 41530 69399 48576 52442 35970\n",
      " 53692 65243 62863 70175 62672 48556 69964 32123 67439 38122 64738 49921\n",
      " 50055 78976 52721 51554 60841 67407 41931 40125 27155 52678 63761 67652\n",
      " 29519 56204]\n"
     ]
    }
   ],
   "source": [
    "import numpy as np\n",
    "from sklearn.cluster import MiniBatchKMeans\n",
    "import time\n",
    "\n",
    "# Assuming embedding_array is already (2_756_260, 1024) Matryoshka embeddings\n",
    "matryoshka_64 = embedding_array[:, :512]  # Use first 512 dimensions only\n",
    "\n",
    "# Optional: shuffle the data\n",
    "np.random.seed(69)\n",
    "shuffle_indices = np.random.permutation(len(matryoshka_64))\n",
    "shuffled_embeddings = matryoshka_64[shuffle_indices]\n",
    "\n",
    "# MiniBatchKMeans clustering\n",
    "kmeans = MiniBatchKMeans(\n",
    "    n_clusters=50,\n",
    "    init=\"k-means++\",\n",
    "    max_iter=100,\n",
    "    batch_size=10000,\n",
    "    n_init=10,\n",
    "    reassignment_ratio=0.01,\n",
    "    random_state=69\n",
    ")\n",
    "\n",
    "\n",
    "labels = kmeans.fit_predict(shuffled_embeddings)\n",
    "\n",
    "print(\"Cluster label distribution:\", np.bincount(labels))\n",
    "\n",
    "# Optional: restore original order\n",
    "original_order_labels = np.empty_like(labels)\n",
    "original_order_labels[shuffle_indices] = labels\n"
   ]
  },
  {
   "cell_type": "code",
   "execution_count": 9,
   "id": "ba7f9f82",
   "metadata": {},
   "outputs": [
    {
     "name": "stdout",
     "output_type": "stream",
     "text": [
      "Silhouette score (sample of 100,000): 0.0193\n"
     ]
    }
   ],
   "source": [
    "from sklearn.metrics import silhouette_score\n",
    "import numpy as np\n",
    "\n",
    "# Sample 100,000 embeddings + labels for silhouette score\n",
    "np.random.seed(69)\n",
    "sample_size = 100_000\n",
    "if embedding_array.shape[0] > sample_size:\n",
    "    sample_idx = np.random.choice(embedding_array.shape[0], size=sample_size, replace=False)\n",
    "else:\n",
    "    sample_idx = np.arange(embedding_array.shape[0])\n",
    "\n",
    "sample_embeddings = embedding_array[sample_idx]\n",
    "sample_labels = original_order_labels[sample_idx]\n",
    "\n",
    "# Compute silhouette score\n",
    "sil_score = silhouette_score(sample_embeddings, sample_labels)\n",
    "print(f\"Silhouette score (sample of 100,000): {sil_score:.4f}\")"
   ]
  },
  {
   "cell_type": "code",
   "execution_count": 10,
   "id": "661df93e",
   "metadata": {},
   "outputs": [
    {
     "name": "stdout",
     "output_type": "stream",
     "text": [
      "Weighted Average Intra-Cluster Coherence: 0.3861\n",
      "\n",
      "Cluster 44 (Size: 27155): 0.4761\n",
      "Cluster 27 (Size: 70175): 0.4664\n",
      "Cluster 13 (Size: 78102): 0.4520\n",
      "Cluster 17 (Size: 72496): 0.4461\n",
      "Cluster 47 (Size: 67652): 0.4447\n",
      "Cluster 20 (Size: 69399): 0.4437\n",
      "Cluster  8 (Size: 47532): 0.4367\n",
      "Cluster  1 (Size: 82567): 0.4283\n",
      "Cluster 18 (Size: 66343): 0.4274\n",
      "Cluster 37 (Size: 78976): 0.4259\n",
      "Cluster 24 (Size: 53692): 0.4247\n",
      "Cluster  9 (Size: 74448): 0.4247\n",
      "Cluster 43 (Size: 40125): 0.4228\n",
      "Cluster 35 (Size: 49921): 0.4223\n",
      "Cluster 29 (Size: 48556): 0.4197\n",
      "Cluster 38 (Size: 52721): 0.4167\n",
      "Cluster 21 (Size: 48576): 0.4098\n",
      "Cluster  4 (Size: 34484): 0.4062\n",
      "Cluster 25 (Size: 65243): 0.4045\n",
      "Cluster 10 (Size: 37197): 0.4033\n",
      "Cluster  3 (Size: 58857): 0.3985\n",
      "Cluster 34 (Size: 64738): 0.3982\n",
      "Cluster 49 (Size: 56204): 0.3956\n",
      "Cluster 46 (Size: 63761): 0.3906\n",
      "Cluster 41 (Size: 67407): 0.3874\n",
      "Cluster  2 (Size: 47444): 0.3818\n",
      "Cluster 39 (Size: 51554): 0.3817\n",
      "Cluster 42 (Size: 41931): 0.3805\n",
      "Cluster 32 (Size: 67439): 0.3802\n",
      "Cluster 12 (Size: 60601): 0.3769\n",
      "Cluster  0 (Size: 53458): 0.3758\n",
      "Cluster  5 (Size: 70904): 0.3742\n",
      "Cluster 19 (Size: 41530): 0.3736\n",
      "Cluster 40 (Size: 60841): 0.3664\n",
      "Cluster  7 (Size: 56418): 0.3631\n",
      "Cluster 36 (Size: 50055): 0.3539\n",
      "Cluster 23 (Size: 35970): 0.3478\n",
      "Cluster 16 (Size: 55765): 0.3430\n",
      "Cluster 15 (Size: 41695): 0.3414\n",
      "Cluster 48 (Size: 29519): 0.3387\n",
      "Cluster 30 (Size: 69964): 0.3372\n",
      "Cluster 28 (Size: 62672): 0.3370\n",
      "Cluster 22 (Size: 52442): 0.3293\n",
      "Cluster 26 (Size: 62863): 0.3227\n",
      "Cluster 11 (Size: 46135): 0.3215\n",
      "Cluster 33 (Size: 38122): 0.3128\n",
      "Cluster 45 (Size: 52678): 0.3076\n",
      "Cluster 14 (Size: 43773): 0.3001\n",
      "Cluster 31 (Size: 32123): 0.2633\n",
      "Cluster  6 (Size: 63037): 0.2398\n"
     ]
    }
   ],
   "source": [
    "import numpy as np\n",
    "\n",
    "\n",
    "\n",
    "cluster_coherence = {}\n",
    "unique_labels = np.unique(original_order_labels)\n",
    "\n",
    "for cluster_id in unique_labels:\n",
    "    indices = np.where(original_order_labels == cluster_id)[0]\n",
    "    n = len(indices)\n",
    "\n",
    "    if n <= 1:\n",
    "        cluster_coherence[cluster_id] = np.nan\n",
    "        continue\n",
    "\n",
    "    cluster_embeddings = embedding_array[indices]\n",
    "\n",
    "    # --- Fast & Memory-Safe Calculation ---\n",
    "    # 1. Normalize each embedding vector to have a length of 1.\n",
    "    norms = np.linalg.norm(cluster_embeddings, axis=1, keepdims=True)\n",
    "    norms[norms == 0] = 1e-9  # Avoid division by zero for zero-vectors\n",
    "    normalized_embeddings = cluster_embeddings / norms\n",
    "\n",
    "    # 2. Calculate the sum of all normalized vectors in the cluster.\n",
    "    sum_vector = np.sum(normalized_embeddings, axis=0)\n",
    "\n",
    "    # 3. Calculate the squared magnitude of the sum vector.\n",
    "    # This is equivalent to the sum of all elements in the full similarity matrix.\n",
    "    sum_of_all_similarities = np.dot(sum_vector, sum_vector)\n",
    "\n",
    "    # 4. Calculate the sum of only the unique pairwise similarities.\n",
    "    # We subtract n to remove the diagonal (where vectors are compared to themselves).\n",
    "    sum_of_pairwise_similarities = (sum_of_all_similarities - n) / 2\n",
    "\n",
    "    # 5. Calculate the number of unique pairs.\n",
    "    num_pairs = (n * (n - 1)) / 2\n",
    "\n",
    "    # 6. The average coherence is the total sum divided by the number of pairs.\n",
    "    if num_pairs > 0:\n",
    "        cluster_coherence[cluster_id] = sum_of_pairwise_similarities / num_pairs\n",
    "    else:\n",
    "        cluster_coherence[cluster_id] = np.nan # Should not happen due to n > 1 check\n",
    "\n",
    "\n",
    "# --- Reporting (same as before) ---\n",
    "total_docs = 0\n",
    "weighted_sum_coherence = 0\n",
    "for cluster_id, score in cluster_coherence.items():\n",
    "    if not np.isnan(score):\n",
    "        size = np.sum(original_order_labels == cluster_id)\n",
    "        weighted_sum_coherence += score * size\n",
    "        total_docs += size\n",
    "\n",
    "if total_docs > 0:\n",
    "    overall_average_coherence = weighted_sum_coherence / total_docs\n",
    "    print(f\"Weighted Average Intra-Cluster Coherence: {overall_average_coherence:.4f}\\n\")\n",
    "\n",
    "sorted_clusters = sorted(cluster_coherence.items(), key=lambda item: item[1], reverse=True)\n",
    "\n",
    "for cluster_id, score in sorted_clusters:\n",
    "    size = np.sum(original_order_labels == cluster_id)\n",
    "    if not np.isnan(score):\n",
    "        print(f\"Cluster {cluster_id:2d} (Size: {size:5d}): {score:.4f}\")\n",
    "    else:\n",
    "        print(f\"Cluster {cluster_id:2d} (Size: {size:5d}): NaN\")"
   ]
  }
 ],
 "metadata": {
  "kernelspec": {
   "display_name": "dti5125-finalproject",
   "language": "python",
   "name": "python3"
  },
  "language_info": {
   "codemirror_mode": {
    "name": "ipython",
    "version": 3
   },
   "file_extension": ".py",
   "mimetype": "text/x-python",
   "name": "python",
   "nbconvert_exporter": "python",
   "pygments_lexer": "ipython3",
   "version": "3.12.10"
  }
 },
 "nbformat": 4,
 "nbformat_minor": 5
}
